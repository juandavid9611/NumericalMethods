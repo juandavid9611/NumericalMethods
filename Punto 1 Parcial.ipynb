{
 "cells": [
  {
   "cell_type": "markdown",
   "metadata": {},
   "source": [
    "<h1>Punto 1 Parcial</h1>\n",
    "<h2>Juan Pablo Peñaloza y William Moreno</h2>\n",
    "<p>Para la ecuación cuadrática $ax^2 + bx + c = 0, a \\neq 0$ por el teorema fundamental del algebra sabemos que tiene 2 raices que se pueden encontrar con la ecuación cuadrática: $x = \\frac {-b \\pm \\sqrt {b^2 - 4ac}}{2a}$.</p>\n",
    "<p>Con esta ecuación podemos definir 3 reglas: \n",
    "    <ul>\n",
    "        <li>Si $b^2 - 4ac > 0$ entonces las raices no son iguales y reales. </li>\n",
    "        <li>Si $b^2 - 4ac = 0$ entonces las raices son de multiplicidad $2$. </li>\n",
    "        <li>Si $b^2 - 4ac < 0$ entonces las raices son imaginarias. </li>\n",
    "    </ul>\n",
    "   Apartir de estas reglas podemos utilizar la ecuación cuadrática para calcular las raices para $ax^2 + bx + c = 0$ y determinar si estas tienen multiplicidad 2 o son complejas conjugadas.</p>"
   ]
  },
  {
   "cell_type": "code",
   "execution_count": 14,
   "metadata": {},
   "outputs": [
    {
     "name": "stdout",
     "output_type": "stream",
     "text": [
      "Raices diferentes y reales\n",
      "(-5.128808451674608, -74.87119154832538)\n",
      "Raices con multiplicidad 2\n",
      "(-1.0, -1.0)\n",
      "Raices con complejas\n",
      "('1.6568542494923806i', '-9.65685424949238i')\n"
     ]
    }
   ],
   "source": [
    "from math import sqrt\n",
    "\n",
    "polyDistinctRealRoots = [4.0, 20.0, 6.0]\n",
    "polyEqualRealRoots = [1.0, 2.0, 1.0]\n",
    "polyComplexRoots = [2.0, 4.0, 6.0]\n",
    "\n",
    "def calculateRoots(polynomial):\n",
    "    sqRootVal = polynomial[1]**2 - 4*polynomial[0]*polynomial[2]\n",
    "    if(sqRootVal > 0):\n",
    "        print (\"Raices diferentes y reales\")\n",
    "        x1 = (-polynomial[1] + sqrt(sqRootVal)) / 2*polynomial[0]\n",
    "        x2 = (-polynomial[1] - sqrt(sqRootVal)) / 2*polynomial[0]\n",
    "    if(sqRootVal == 0):\n",
    "        print (\"Raices con multiplicidad 2\")\n",
    "        x1 = (-polynomial[1] + sqrt(sqRootVal)) / 2*polynomial[0]\n",
    "        x2 = (-polynomial[1] - sqrt(sqRootVal)) / 2*polynomial[0]\n",
    "    if(sqRootVal < 0):\n",
    "        print (\"Raices con complejas\")\n",
    "        x1 = (-polynomial[1] + sqrt(-sqRootVal)) / 2*polynomial[0]\n",
    "        x2 = (-polynomial[1] - sqrt(-sqRootVal)) / 2*polynomial[0]\n",
    "        return (str(x1) + \"i\", str(x2) + \"i\")\n",
    "    return (x1, x2)\n",
    "print (calculateRoots(polyDistinctRealRoots))\n",
    "print (calculateRoots(polyEqualRealRoots))\n",
    "print (calculateRoots(polyComplexRoots))"
   ]
  }
 ],
 "metadata": {
  "kernelspec": {
   "display_name": "Python 3",
   "language": "python",
   "name": "python3"
  },
  "language_info": {
   "codemirror_mode": {
    "name": "ipython",
    "version": 3
   },
   "file_extension": ".py",
   "mimetype": "text/x-python",
   "name": "python",
   "nbconvert_exporter": "python",
   "pygments_lexer": "ipython3",
   "version": "3.6.1"
  }
 },
 "nbformat": 4,
 "nbformat_minor": 2
}
