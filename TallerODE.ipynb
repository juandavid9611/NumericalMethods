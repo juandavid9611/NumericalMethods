{
 "cells": [
  {
   "cell_type": "markdown",
   "metadata": {},
   "source": [
    "<h1>Taller ODE Con Métodos Numéricos</h1>\n",
    "<h2>Juan Pablo Peñaloza, Nicolás Miranda, William Moreno y Johan Murillo</h2>"
   ]
  },
  {
   "cell_type": "markdown",
   "metadata": {},
   "source": [
    "<h3>1.</h3>"
   ]
  },
  {
   "cell_type": "code",
   "execution_count": 1,
   "metadata": {},
   "outputs": [
    {
     "data": {
      "image/png": "[encoded data removed]",
      "text/plain": [
       "<matplotlib.figure.Figure at 0x106d3c860>"
      ]
     },
     "metadata": {},
     "output_type": "display_data"
    }
   ],
   "source": [
    "from pylab import *\n",
    "from mpmath import odefun, cos, sin, mpf, sinc, mp\n",
    "\n",
    "\n",
    "def f(x,y):\n",
    "    return y + x - x**2 +1\n",
    "\n",
    "\n",
    "def realSol(x):\n",
    "    g = odefun(lambda x, y: y + x - x**2 +1, 0, 1)\n",
    "    return g(x)\n",
    "    \n",
    "def euler(f, x, y, h, m):\n",
    "    u = []\n",
    "    v = []\n",
    "    for i in range(m):\n",
    "        k1 = h * f(x,y)\n",
    "        k2 = h * f(x+ h, y + k1)\n",
    "        y = y + (0.5)*(k1 + k2)\n",
    "        x = x + h\n",
    "        u = u + [x]\n",
    "        v = v + [y]\n",
    "    return [u,v]\n",
    "\n",
    "[u,v] = euler(f,0,1,0.1,20)\n",
    "realV = [];\n",
    "for i in u:\n",
    "    realV.append(realSol(i))\n",
    "\n",
    "plot(u,v,'or')\n",
    "plot(u,realV,'ob')\n",
    "show()"
   ]
  },
  {
   "cell_type": "markdown",
   "metadata": {},
   "source": [
    "<h3>2.</h3>"
   ]
  },
  {
   "cell_type": "code",
   "execution_count": null,
   "metadata": {
    "collapsed": true
   },
   "outputs": [],
   "source": [
    "def f(x,y):\n",
    "    return 2*y - 2*x**2 + x - 3\n",
    "\n",
    "def euler(f, x, y, h, m):\n",
    "    u = []\n",
    "    v = []\n",
    "    for i in range(m):\n",
    "        k1 = h * f(x,y)\n",
    "        k2 = h * f(x+ h, y + k1)\n",
    "        y = y + (0.5)*(k1 + k2)\n",
    "        x = x + h\n",
    "        u = u + [x]\n",
    "        v = v + [y]\n",
    "    return [u,v]\n",
    "\n"
   ]
  }
 ],
 "metadata": {
  "kernelspec": {
   "display_name": "Python 3",
   "language": "python",
   "name": "python3"
  },
  "language_info": {
   "codemirror_mode": {
    "name": "ipython",
    "version": 3
   },
   "file_extension": ".py",
   "mimetype": "text/x-python",
   "name": "python",
   "nbconvert_exporter": "python",
   "pygments_lexer": "ipython3",
   "version": "3.6.2"
  }
 },
 "nbformat": 4,
 "nbformat_minor": 2
}
