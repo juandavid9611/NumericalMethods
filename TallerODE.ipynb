{
 "cells": [
  {
   "cell_type": "markdown",
   "metadata": {},
   "source": [
    "<h1>Taller ODE Con Métodos Numéricos</h1>\n",
    "<h2>Juan Pablo Peñaloza, Nicolás Miranda, William Moreno y Johan Murillo</h2>"
   ]
  },
  {
   "cell_type": "markdown",
   "metadata": {},
   "source": [
    "<h3>1.</h3>"
   ]
  },
  {
   "cell_type": "code",
   "execution_count": 1,
   "metadata": {
    "collapsed": false
   },
   "outputs": [
    {
     "data": {
      "image/png": "[encoded data removed]",
      "text/plain": [
       "<matplotlib.figure.Figure at 0x106d3c860>"
      ]
     },
     "metadata": {},
     "output_type": "display_data"
    }
   ],
   "source": [
    "from pylab import *\n",
    "from mpmath import odefun, cos, sin, mpf, sinc, mp\n",
    "\n",
    "\n",
    "def f(x,y):\n",
    "    return y + x - x**2 +1\n",
    "\n",
    "\n",
    "def realSol(x):\n",
    "    g = odefun(lambda x, y: y + x - x**2 +1, 0, 1)\n",
    "    return g(x)\n",
    "    \n",
    "def euler(f, x, y, h, m):\n",
    "    u = []\n",
    "    v = []\n",
    "    for i in range(m):\n",
    "        k1 = h * f(x,y)\n",
    "        k2 = h * f(x+ h, y + k1)\n",
    "        y = y + (0.5)*(k1 + k2)\n",
    "        x = x + h\n",
    "        u = u + [x]\n",
    "        v = v + [y]\n",
    "    return [u,v]\n",
    "\n",
    "[u,v] = euler(f,0,1,0.1,20)\n",
    "realV = [];\n",
    "for i in u:\n",
    "    realV.append(realSol(i))\n",
    "\n",
    "plot(u,v,'or')\n",
    "plot(u,realV,'ob')\n",
    "show()"
   ]
  },
  {
   "cell_type": "markdown",
   "metadata": {},
   "source": [
    "<h3>2.</h3>"
   ]
  },
  {
   "cell_type": "code",
   "execution_count": 7,
   "metadata": {
    "collapsed": false
   },
   "outputs": [
    {
     "name": "stderr",
     "output_type": "stream",
     "text": [
      "/Users/JuanPablo/anaconda/lib/python2.7/site-packages/ipykernel/__main__.py:8: RuntimeWarning: overflow encountered in double_scalars\n"
     ]
    },
    {
     "data": {
      "image/png": "[encoded data removed]",
      "text/plain": [
       "<matplotlib.figure.Figure at 0x10d21c490>"
      ]
     },
     "metadata": {},
     "output_type": "display_data"
    }
   ],
   "source": [
    "import numpy\n",
    "import matplotlib.patches as mpatches\n",
    "import matplotlib.pyplot as plt\n",
    "from pylab import *\n",
    "from mpmath import odefun, cos, sin, mpf, sinc, mp\n",
    "\n",
    "def f(x,y):\n",
    "    return 2*y - 2*x**2 + x - 3\n",
    "\n",
    "def realSol(x):\n",
    "    g = odefun(lambda x, y: 2*y - 2*x**2 + x - 3, 0.0, 1.2)\n",
    "    return g(x)\n",
    "\n",
    "def getRealSolutionArray(t):\n",
    "    x = []\n",
    "    for i in t:\n",
    "        x.append(realSol(i))\n",
    "    return x\n",
    "\n",
    "def heun( f, x0, t ):\n",
    "    \"\"\"Heun's method to solve x' = f(x,t) with x(t[0]) = x0.\n",
    "\n",
    "    USAGE:\n",
    "        x = heun(f, x0, t)\n",
    "\n",
    "    INPUT:\n",
    "        f     - function of x and t equal to dx/dt.  x may be multivalued,\n",
    "                in which case it should a list or a NumPy array.  In this\n",
    "                case f must return a NumPy array with the same dimension\n",
    "                as x.\n",
    "        x0    - the initial condition(s).  Specifies the value of x when\n",
    "                t = t[0].  Can be either a scalar or a list or NumPy array\n",
    "                if a system of equations is being solved.\n",
    "        t     - list or NumPy array of t values to compute solution at.\n",
    "                t[0] is the the initial condition point, and the difference\n",
    "                h=t[i+1]-t[i] determines the step size h.\n",
    "\n",
    "    OUTPUT:\n",
    "        x     - NumPy array containing solution values corresponding to each\n",
    "                entry in t array.  If a system is being solved, x will be\n",
    "                an array of arrays.\n",
    "    \"\"\"\n",
    "    n = len( t )\n",
    "    x = numpy.array( [x0] * n )\n",
    "    for i in xrange( n - 1 ):\n",
    "        h = t[i+1] - t[i]\n",
    "        k1 = h * f( x[i], t[i] )\n",
    "        k2 = h * f( x[i] + k1, t[i+1] )\n",
    "        x[i+1] = x[i] + ( k1 + k2 ) / 2.0\n",
    "\n",
    "    return x\n",
    "\n",
    "def euler( f, x0, t ):\n",
    "    \"\"\"Euler's method to solve x' = f(x,t) with x(t[0]) = x0.\n",
    "\n",
    "    USAGE:\n",
    "        x = euler(f, x0, t)\n",
    "\n",
    "    INPUT:\n",
    "        f     - function of x and t equal to dx/dt.  x may be multivalued,\n",
    "                in which case it should a list or a NumPy array.  In this\n",
    "                case f must return a NumPy array with the same dimension\n",
    "                as x.\n",
    "        x0    - the initial condition(s).  Specifies the value of x when\n",
    "                t = t[0].  Can be either a scalar or a list or NumPy array\n",
    "                if a system of equations is being solved.\n",
    "        t     - list or NumPy array of t values to compute solution at.\n",
    "                t[0] is the the initial condition point, and the difference\n",
    "                h=t[i+1]-t[i] determines the step size h.\n",
    "\n",
    "    OUTPUT:\n",
    "        x     - NumPy array containing solution values corresponding to each\n",
    "                entry in t array.  If a system is being solved, x will be\n",
    "                an array of arrays.\n",
    "    \"\"\"\n",
    "\n",
    "    n = len( t )\n",
    "    x = numpy.array( [x0] * n )\n",
    "    for i in xrange( n - 1 ):\n",
    "        x[i+1] = x[i] + ( t[i+1] - t[i] ) * f( x[i], t[i] )\n",
    "\n",
    "    return x\n",
    "\n",
    "def rk4( f, x0, t ):\n",
    "    \"\"\"Fourth-order Runge-Kutta method to solve x' = f(x,t) with x(t[0]) = x0.\n",
    "\n",
    "    USAGE:\n",
    "        x = rk4(f, x0, t)\n",
    "\n",
    "    INPUT:\n",
    "        f     - function of x and t equal to dx/dt.  x may be multivalued,\n",
    "                in which case it should a list or a NumPy array.  In this\n",
    "                case f must return a NumPy array with the same dimension\n",
    "                as x.\n",
    "        x0    - the initial condition(s).  Specifies the value of x when\n",
    "                t = t[0].  Can be either a scalar or a list or NumPy array\n",
    "                if a system of equations is being solved.\n",
    "        t     - list or NumPy array of t values to compute solution at.\n",
    "                t[0] is the the initial condition point, and the difference\n",
    "                h=t[i+1]-t[i] determines the step size h.\n",
    "\n",
    "    OUTPUT:\n",
    "        x     - NumPy array containing solution values corresponding to each\n",
    "                entry in t array.  If a system is being solved, x will be\n",
    "                an array of arrays.\n",
    "    \"\"\"\n",
    "\n",
    "    n = len( t )\n",
    "    x = numpy.array( [ x0 ] * n )\n",
    "    for i in xrange( n - 1 ):\n",
    "        h = t[i+1] - t[i]\n",
    "        k1 = h * f( x[i], t[i] )\n",
    "        k2 = h * f( x[i] + 0.5 * k1, t[i] + 0.5 * h )\n",
    "        k3 = h * f( x[i] + 0.5 * k2, t[i] + 0.5 * h )\n",
    "        k4 = h * f( x[i] + k3, t[i+1] )\n",
    "        x[i+1] = x[i] + ( k1 + 2.0 * ( k2 + k3 ) + k4 ) / 6.0\n",
    "\n",
    "    return x\n",
    "\n",
    "a, b = ( 0.0, 15.0 )\n",
    "x0 = 1.2\n",
    "n = 30\n",
    "t = numpy.linspace( a, b, n )\n",
    "h = 0.1;\n",
    "x_euler = euler( f, x0, t )\n",
    "x_heun = heun( f, x0, t )\n",
    "x_rk4 = rk4( f, x0, t )\n",
    "real = getRealSolutionArray(t)\n",
    "\n",
    "#plot(t,x_euler,'or',label='Euler')\n",
    "#plot(t,x_heun,'ob', label='Heun')\n",
    "#plot(t,x_rk4,'oy', label='Runge-Kutta')\n",
    "plot(t,real,'og', label='Real')\n",
    "show()"
   ]
  }
 ],
 "metadata": {
  "anaconda-cloud": {},
  "kernelspec": {
   "display_name": "Python 2",
   "language": "python",
   "name": "python2"
  },
  "language_info": {
   "codemirror_mode": {
    "name": "ipython",
    "version": 2
   },
   "file_extension": ".py",
   "mimetype": "text/x-python",
   "name": "python",
   "nbconvert_exporter": "python",
   "pygments_lexer": "ipython2",
   "version": "2.7.12"
  }
 },
 "nbformat": 4,
 "nbformat_minor": 2
}
