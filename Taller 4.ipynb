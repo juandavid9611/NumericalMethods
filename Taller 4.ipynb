{
 "cells": [
  {
   "cell_type": "markdown",
   "metadata": {},
   "source": [
    "<h1>Taller Análisis Numérico</h1>\n",
    "<p>Juan Pablo Peñaloza - Johan Murillo - William Moreno<p>"
   ]
  },
  {
   "cell_type": "markdown",
   "metadata": {},
   "source": [
    "<h2>Primer Punto</h2>\n",
    "<p>Demostrar la ecuación para calcular el número de iteraciones: </p>\n",
    "<p style=\"text-align: center; font-size: 20px;\">$\\frac{ln{(a)} - ln{(\\epsilon)}}{ln{(2)}}$</p>\n",
    "<h3>Solución</h3>\n",
    "<p>Se puede demostrar la ecuación estipulando una presición $\\epsilon$ y siendo $a$ la distancia del intervalo de búsqueda de la siguinete manera:</p>\n",
    "<p>En la iteración $n$: $d_n = \\frac{d}{2}$</p>\n",
    "<p>Se desea terminar cuando: $d_n \\le \\epsilon$ </p>\n",
    "<p>Entonces se debe cumplir: $\\frac{d}{2^n} \\le \\epsilon$</p>\n",
    "<p>Por lo tanto, resolviendo por $n$: $\\frac{ln {\\frac{(a)} {(\\epsilon)}} }{ln{(2)}}$</p>\n",
    "<p>Por propiedades de logaritmos: $\\frac{ln{(a)} - ln{(\\epsilon)}}{ln{(2)}}$</p>\n"
   ]
  },
  {
   "cell_type": "markdown",
   "metadata": {},
   "source": [
    "<h2>Segundo Punto</h2>\n",
    "<p>Implementar Triseccion y Cuatrisection<p>"
   ]
  },
  {
   "cell_type": "code",
   "execution_count": 50,
   "metadata": {
    "collapsed": false
   },
   "outputs": [
    {
     "name": "stdout",
     "output_type": "stream",
     "text": [
      "0.557025516286\n",
      "Error: Max iterations exided\n",
      "Error: Max iterations exided\n"
     ]
    }
   ],
   "source": [
    "def f(x):\n",
    "    return -26 + 85*x - 91*x**2 +44*x**3 -8*x**4 + x**5\n",
    "def sameSign(a, b):\n",
    "    return a * b > 0\n",
    "\n",
    "def bisection(lowLimit, highLimit, TOL, maxIterations):\n",
    "    assert not sameSign(f(lowLimit), f(highLimit))\n",
    "    \n",
    "    for i in range(0, maxIterations):\n",
    "        middle = (lowLimit + highLimit) / 2.0\n",
    "        if(f(middle) == 0 or (highLimit - lowLimit) < TOL):\n",
    "            return middle\n",
    "        if(sameSign(f(lowLimit), f(middle))):\n",
    "           lowLimit = middle\n",
    "        else:\n",
    "            highLimit = middle\n",
    "    return \"Error: Max iterations exided\"\n",
    "           \n",
    "\n",
    "print bisection(0, 1, 0.00000000001, 100)\n",
    "\n",
    "def trisection(lowLimit, highLimit, TOL, maxIterations):\n",
    "    assert not sameSign(f(lowLimit), f(highLimit))\n",
    "    \n",
    "    for i in range(0, maxIterations):\n",
    "        u = (lowLimit + highLimit) / 3.0\n",
    "        v = u * 2\n",
    "        \n",
    "        if(f(u) == 0 or (highLimit - lowLimit) < TOL):\n",
    "            return u\n",
    "        if(f(v) == 0 or (highLimit - lowLimit) < TOL):\n",
    "            return v\n",
    "        \n",
    "        if(not sameSign(f(lowLimit), f(u))):\n",
    "            highLimit = u\n",
    "        if(not sameSign(f(u), f(v))):\n",
    "            lowLimit = u\n",
    "            highLimit = v\n",
    "        if(not sameSign(f(v), f(highLimit))):\n",
    "            lowLimit = v\n",
    "    return \"Error: Max iterations exided\"\n",
    "           \n",
    "print trisection(0, 1, 0.01, 1000)\n",
    "\n",
    "def cuatrosection(lowLimit, highLimit, TOL, maxIterations):\n",
    "    assert not sameSign(f(lowLimit), f(highLimit))\n",
    "    \n",
    "    for i in range(0, maxIterations):\n",
    "        u = (lowLimit + highLimit) / 4.0\n",
    "        v = u * 2\n",
    "        w = u * 3\n",
    "        \n",
    "        if(f(u) == 0 or (highLimit - lowLimit) < TOL):\n",
    "            return u\n",
    "        if(f(v) == 0 or (highLimit - lowLimit) < TOL):\n",
    "            return v\n",
    "        if(f(w) == 0 or (highLimit - lowLimit) < TOL):\n",
    "            return v\n",
    "        \n",
    "        if(not sameSign(f(lowLimit), f(u))):\n",
    "            highLimit = u\n",
    "        if(not sameSign(f(u), f(v))):\n",
    "            lowLimit = u\n",
    "            highLimit = v\n",
    "        if(not sameSign(f(v), f(w))):\n",
    "            lowLimit = v\n",
    "            highLimit = w\n",
    "        if(not sameSign(f(v), f(highLimit))):\n",
    "            lowLimit = v\n",
    "       \n",
    "    return \"Error: Max iterations exided\"\n",
    "\n",
    "print cuatrosection(0, 1, 0.01, 1000)\n"
   ]
  },
  {
   "cell_type": "markdown",
   "metadata": {},
   "source": [
    "<h2>Tercer Punto</h2>\n",
    "<p>Encontrar con el método de Newton la las raices de la ecuación $f(x) = e^{ - x} - x$<p>"
   ]
  },
  {
   "cell_type": "code",
   "execution_count": 55,
   "metadata": {
    "collapsed": false
   },
   "outputs": [
    {
     "name": "stdout",
     "output_type": "stream",
     "text": [
      "0.56714329041\n"
     ]
    }
   ],
   "source": [
    "from math import exp, expm1\n",
    "def f2(x):\n",
    "    return exp(x * -1) - x\n",
    "\n",
    "def df2(x):\n",
    "    return (exp(x* -1)*-1) - 1\n",
    "\n",
    "def newtonMethod(p0, TOL, maxIterations):\n",
    "    for i in range(0, maxIterations):\n",
    "        p = p0 - (f2(p0)/df2(p0))\n",
    "        if(abs(p - p0) < TOL):\n",
    "            return p\n",
    "        p0 = p\n",
    "    return \"Error: Max iterations exided\"\n",
    "            \n",
    "print newtonMethod(0.5, 0.0001, 10)"
   ]
  }
 ],
 "metadata": {
  "anaconda-cloud": {},
  "kernelspec": {
   "display_name": "Python [conda root]",
   "language": "python",
   "name": "conda-root-py"
  },
  "language_info": {
   "codemirror_mode": {
    "name": "ipython",
    "version": 2
   },
   "file_extension": ".py",
   "mimetype": "text/x-python",
   "name": "python",
   "nbconvert_exporter": "python",
   "pygments_lexer": "ipython2",
   "version": "2.7.12"
  }
 },
 "nbformat": 4,
 "nbformat_minor": 1
}
