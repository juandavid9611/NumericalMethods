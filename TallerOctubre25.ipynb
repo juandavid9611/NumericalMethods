{
 "cells": [
  {
   "cell_type": "markdown",
   "metadata": {},
   "source": [
    "<h1>Taller Derivación e Integración Numérica</h1>\n",
    "<h2>Octubre 25 2015</h2>\n",
    "<h3>Juan Pablo Peñaloza, Johan Murillo y William Moreno</h3>"
   ]
  },
  {
   "cell_type": "markdown",
   "metadata": {},
   "source": [
    "<h4>Punto 1 K<h4>"
   ]
  },
  {
   "cell_type": "code",
   "execution_count": 32,
   "metadata": {},
   "outputs": [
    {
     "name": "stdout",
     "output_type": "stream",
     "text": [
      "Time: 1.0 Voltage: 2.4\n",
      "Time: 1.01 Voltage: 1.423\n",
      "Time: 1.02 Voltage: 3.386\n",
      "Time: 1.03 Voltage: 5.352\n",
      "Time: 1.04 Voltage: 7.32\n"
     ]
    }
   ],
   "source": [
    "i = {1.00: 3.10, 1.01: 3.12, 1.02: 3.14, 1.03: 3.18, 1.04: 3.24} # i(t) values \n",
    "R = 0.142 # Resistence Constant\n",
    "L = 0.98 # Inductance Constant\n",
    "t = [1.00, 1.01, 1.02, 1.03, 1.04]\n",
    "\n",
    "def threePointEndpoint(t):\n",
    "    h = 0.01\n",
    "    if(t > 1.02):\n",
    "        h *= -1\n",
    "    fraction = 1.0/(2.0*h)\n",
    "    term1 = -3.00*i[t]\n",
    "    term2 = 4*i[t + h]\n",
    "    term3 = i[t + 2.0*h]*(-1)\n",
    "    termSum = term1 + term2 + term3\n",
    "    return fraction*termSum\n",
    "\n",
    "def E(t):\n",
    "    return round(L*threePointEndpoint(t) + R*i[t],3)\n",
    "\n",
    "for j in t:\n",
    "    print (\"Time:\",j, \"Voltage:\", E(j))"
   ]
  },
  {
   "cell_type": "markdown",
   "metadata": {},
   "source": [
    "<h4>Punto 2 B</h4>"
   ]
  },
  {
   "cell_type": "code",
   "execution_count": 47,
   "metadata": {},
   "outputs": [
    {
     "name": "stdout",
     "output_type": "stream",
     "text": [
      "El error es del:  0.3336 %\n",
      "El error es del:  0.0033 %\n",
      "El error es del:  0.0 %\n"
     ]
    }
   ],
   "source": [
    "from math import *\n",
    "from sympy import *\n",
    "\n",
    "# La función sin esta en RADIANES\n",
    "\n",
    "M = [10.0, 100.0, 1000.0]\n",
    "l = 0.0\n",
    "h = 2.0\n",
    "x = Symbol('x')\n",
    "\n",
    "def trapecios(f,a,b,m):\n",
    "    h = (b-a)/m\n",
    "    s=0.0\n",
    "    for i in range(1,int(m)):\n",
    "        s=s+f(a+i*h)\n",
    "    r=h/2.0*(f(a)+2.0*s+f(b))\n",
    "    return r\n",
    "\n",
    "for i in M:\n",
    "    experimental = trapecios(sin, l, h, i)\n",
    "    real = integrate(sin(x),(x,l,h))\n",
    "    error = (abs(real - experimental) / real) * 100\n",
    "    print (\"El error es del: \", round(error,4),\"%\")\n",
    "    \n",
    "# A mayor es el m mejor es la aproximación pero un m de 1000 en este caso funcionó muy bien ya que dio un error muy\n",
    "# pequeño como lo podemos ver en la impreción en pantalla"
   ]
  }
 ],
 "metadata": {
  "kernelspec": {
   "display_name": "Python 3",
   "language": "python",
   "name": "python3"
  },
  "language_info": {
   "codemirror_mode": {
    "name": "ipython",
    "version": 3
   },
   "file_extension": ".py",
   "mimetype": "text/x-python",
   "name": "python",
   "nbconvert_exporter": "python",
   "pygments_lexer": "ipython3",
   "version": "3.6.1"
  }
 },
 "nbformat": 4,
 "nbformat_minor": 2
}
