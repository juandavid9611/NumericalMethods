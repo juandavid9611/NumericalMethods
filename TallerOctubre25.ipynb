{
 "cells": [
  {
   "cell_type": "markdown",
   "metadata": {},
   "source": [
    "<h1>Taller Derivación e Integración Numérica</h1>\n",
    "<h2>Octubre 25 2015</h2>\n",
    "<h3>Juan Pablo Peñaloza, Johan Murillo y William Moreno</h3>"
   ]
  },
  {
   "cell_type": "markdown",
   "metadata": {},
   "source": [
    "<h4>Punto 1 K<h4>"
   ]
  },
  {
   "cell_type": "code",
   "execution_count": 32,
   "metadata": {},
   "outputs": [
    {
     "name": "stdout",
     "output_type": "stream",
     "text": [
      "Time: 1.0 Voltage: 2.4\n",
      "Time: 1.01 Voltage: 1.423\n",
      "Time: 1.02 Voltage: 3.386\n",
      "Time: 1.03 Voltage: 5.352\n",
      "Time: 1.04 Voltage: 7.32\n"
     ]
    }
   ],
   "source": [
    "i = {1.00: 3.10, 1.01: 3.12, 1.02: 3.14, 1.03: 3.18, 1.04: 3.24} # i(t) values \n",
    "R = 0.142 # Resistence Constant\n",
    "L = 0.98 # Inductance Constant\n",
    "t = [1.00, 1.01, 1.02, 1.03, 1.04]\n",
    "\n",
    "def threePointEndpoint(t):\n",
    "    h = 0.01\n",
    "    if(t > 1.02):\n",
    "        h *= -1\n",
    "    fraction = 1.0/(2.0*h)\n",
    "    term1 = -3.00*i[t]\n",
    "    term2 = 4*i[t + h]\n",
    "    term3 = i[t + 2.0*h]*(-1)\n",
    "    termSum = term1 + term2 + term3\n",
    "    return fraction*termSum\n",
    "\n",
    "def E(t):\n",
    "    return round(L*threePointEndpoint(t) + R*i[t],3)\n",
    "\n",
    "for j in t:\n",
    "    print (\"Time:\",j, \"Voltage:\", E(j))"
   ]
  },
  {
   "cell_type": "markdown",
   "metadata": {},
   "source": [
    "<h4>Punto 2 B</h4>"
   ]
  },
  {
   "cell_type": "code",
   "execution_count": 1,
   "metadata": {},
   "outputs": [
    {
     "name": "stdout",
     "output_type": "stream",
     "text": [
      "El error es del:  0.3336 %\n",
      "El error es del:  0.0033 %\n",
      "El error es del:  0.0 %\n"
     ]
    }
   ],
   "source": [
    "from math import *\n",
    "from sympy import *\n",
    "\n",
    "# La función sin esta en RADIANES\n",
    "\n",
    "M = [10.0, 100.0, 1000.0]\n",
    "l = 0.0\n",
    "h = 2.0\n",
    "x = Symbol('x')\n",
    "\n",
    "def trapecios(f,a,b,m):\n",
    "    h = (b-a)/m\n",
    "    s=0.0\n",
    "    for i in range(1,int(m)):\n",
    "        s=s+f(a+i*h)\n",
    "    r=h/2.0*(f(a)+2.0*s+f(b))\n",
    "    return r\n",
    "\n",
    "for i in M:\n",
    "    experimental = trapecios(sin, l, h, i)\n",
    "    real = integrate(sin(x),(x,l,h))\n",
    "    error = (abs(real - experimental) / real) * 100\n",
    "    print (\"El error es del: \", round(error,4),\"%\")\n",
    "    \n",
    "# A mayor es el m mejor es la aproximación pero un m de 1000 en este caso funcionó muy bien ya que dio un error muy\n",
    "# pequeño como lo podemos ver en la impreción en pantalla"
   ]
  },
  {
   "cell_type": "markdown",
   "metadata": {},
   "source": [
    "<h4>Punto 2 M</h4>"
   ]
  },
  {
   "cell_type": "code",
   "execution_count": 2,
   "metadata": {},
   "outputs": [
    {
     "name": "stdout",
     "output_type": "stream",
     "text": [
      "El resultado es:  315555.55555555556\n"
     ]
    }
   ],
   "source": [
    "from sympy import *\n",
    "# from simpson import *\n",
    "\n",
    "arr = [ [0,0,4,6,0] , [0,3,5,7,3] , [1,5,6,9,5] , [0,2,3,5,1] , [0,0,1,2,0] ]\n",
    "\n",
    "def f(y,x):\n",
    "    # print(x,\" \",y,\" \",arr[(int)(y/50)][(int)(x/100)])\n",
    "    return arr[(int)(y/50)][(int)(x/100)]\n",
    "\n",
    "def simpson13(n, a, b, f):\n",
    "    #calculamos h\n",
    "    h = (b - a) / n\n",
    "    #Inicializamos nuestra varible donde se almacenara las sumas\n",
    "    suma = 0.0\n",
    "    #hacemos un ciclo para ir sumando las areas\n",
    "    for i in range(1, n):\n",
    "        #calculamos la x\n",
    "        #x = a - h + (2 * h * i)\n",
    "        x = a + i * h\n",
    "        # si es par se multiplica por 4\n",
    "        if(i % 2 == 0):\n",
    "            suma = suma + 2 * f(x)\n",
    "        #en caso contrario se multiplica por 2\n",
    "        else:\n",
    "            suma = suma + 4 * f(x)\n",
    "    #sumamos los el primer elemento y el ultimo\n",
    "    suma = suma + f(a) + f(b)\n",
    "    #Multiplicamos por h/3\n",
    "    rest = suma * (h /3)\n",
    "    #Retornamos el resultado\n",
    "    return (rest)\n",
    "\n",
    "def simpsonNuestro(f,ay,by,ax,bx,my,mx):\n",
    "    dx=(bx-ax)/mx\n",
    "    v=ax\n",
    "    s=0\n",
    "    for i in range(0,mx+1):\n",
    "        def g(x): return f(x,v)\n",
    "        u = simpson13(my,ay,by,g)\n",
    "        if( i != 0 and i != mx+1 ):\n",
    "            if( i % 2 == 0 ):\n",
    "                u = u*2\n",
    "            else:\n",
    "                u = u*4\n",
    "        s = s+u\n",
    "        v = v+dx\n",
    "    r = (dx/3)*s;\n",
    "    return r\n",
    "\n",
    "\n",
    "print( \"El resultado es: \",simpsonNuestro(f,0,200,0,400,4,4) )\n"
   ]
  },
  {
   "cell_type": "markdown",
   "metadata": {},
   "source": [
    "<h4>Punto 2 F</h4>"
   ]
  },
  {
   "cell_type": "code",
   "execution_count": 8,
   "metadata": {},
   "outputs": [
    {
     "name": "stdout",
     "output_type": "stream",
     "text": [
      "Escriba la primera funcion en terminos de x\n",
      "x\n",
      "Escriba la segunda funcion en terminos de x\n",
      "x**2\n",
      "Los puntos de interseccion son : 0 , 1\n",
      "La primera integral:  1/2\n",
      "La segunda integral:  1/3\n",
      "El area entre las curvas es:  1/6\n"
     ]
    }
   ],
   "source": [
    "#Importamos math\n",
    "from math import *\n",
    "from sympy import *\n",
    "\n",
    "#Definimos la funcion\n",
    "#@ n: numero de x\n",
    "#@ a y b los intervalos de la integral\n",
    "#@ f: La funcion a integrar\n",
    "def simpson13(n, a, b, f):\n",
    "    #calculamos h\n",
    "    h = (b - a) / n\n",
    "    #Inicializamos nuestra varible donde se almacenara las sumas\n",
    "    suma = 0.0\n",
    "    #hacemos un ciclo para ir sumando las areas\n",
    "    for i in range(1, n):\n",
    "        #calculamos la x\n",
    "        #x = a - h + (2 * h * i)\n",
    "        x = a + i * h\n",
    "        # si es par se multiplica por 4\n",
    "        if(i % 2 == 0):\n",
    "            suma = suma + 2 * fx(x, f)\n",
    "        #en caso contrario se multiplica por 2\n",
    "        else:\n",
    "            suma = suma + 4 * fx(x, f)\n",
    "    #sumamos los el primer elemento y el ultimo\n",
    "    suma = suma + fx(a, f) + fx(b, f)\n",
    "    #Multiplicamos por h/3\n",
    "    rest = suma * (h / 3)\n",
    "    #Retornamos el resultado\n",
    "    return (rest)\n",
    "\n",
    "#Funcion que nos ayuda a evaluar las funciones\n",
    "def fx(x, f):\n",
    "    return eval(f)\n",
    "\n",
    "#valores de ejemplo para la funcion sin(x) con intervalos de\n",
    "n = 100 #iteraciones\n",
    "f1 = input(\"Escriba la primera funcion en terminos de x\\n\")\n",
    "f2 = input(\"Escriba la segunda funcion en terminos de x\\n\")\n",
    "f3 = f1+\"-\"+f2\n",
    "x=Symbol(\"x\")\n",
    "a,b=solve(f3,x)\n",
    "print(\"Los puntos de interseccion son :\",a,\",\",b)\n",
    "i1 = simpson13(n, a, b, f1)\n",
    "i2 = simpson13(n, a, b, f2)\n",
    "print(\"La primera integral: \",i1)\n",
    "print(\"La segunda integral: \",i2)\n",
    "if(i1>i2):\n",
    "    i1,i2=i2,i1\n",
    "res = i2-i1\n",
    "print(\"El area entre las curvas es: \",res)\n"
   ]
  },
  {
   "cell_type": "code",
   "execution_count": null,
   "metadata": {
    "collapsed": true
   },
   "outputs": [],
   "source": []
  }
 ],
 "metadata": {
  "kernelspec": {
   "display_name": "Python 3",
   "language": "python",
   "name": "python3"
  },
  "language_info": {
   "codemirror_mode": {
    "name": "ipython",
    "version": 3
   },
   "file_extension": ".py",
   "mimetype": "text/x-python",
   "name": "python",
   "nbconvert_exporter": "python",
   "pygments_lexer": "ipython3",
   "version": "3.6.1"
  }
 },
 "nbformat": 4,
 "nbformat_minor": 2
}
