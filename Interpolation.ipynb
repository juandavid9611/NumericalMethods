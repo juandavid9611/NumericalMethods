{
 "cells": [
  {
   "cell_type": "code",
   "execution_count": 13,
   "metadata": {
    "collapsed": true
   },
   "outputs": [],
   "source": [
    "def newton_interpolation(x, y, u):\n",
    "  '''\n",
    "  Parameters\n",
    "  ----------\n",
    "  x : list of floats\n",
    "  y : list of floats\n",
    "  u : float\n",
    "  \n",
    "  Returns\n",
    "  -------  \n",
    "  float\n",
    "      an estimate at the point u\n",
    "  '''\n",
    "  g = y[:]\n",
    "  s = g[0]\n",
    "  for i in range(len(y)-1):\n",
    "    g = [(g[j+1]-g[j])/(x[j+i+1]-x[j]) for j in range(len(g)-1)]\n",
    "    s += g[0] * product(u-x[j] for j in range(i+1))\n",
    "  return s  \n",
    "\n",
    "def product(a): \n",
    "  p = 1\n",
    "  for i in a: p *= i\n",
    "  return p"
   ]
  },
  {
   "cell_type": "code",
   "execution_count": 110,
   "metadata": {},
   "outputs": [
    {
     "name": "stdout",
     "output_type": "stream",
     "text": [
      "       .......                      \n",
      "     ..       ..                    \n",
      "......         .                    \n",
      ".....          .                    \n",
      "     ..       .                     \n",
      "       .      ............          \n",
      "     ..                   ......... \n",
      "    .                           ... \n",
      "   .                           .    \n",
      "   .                           .    \n",
      "    .                         .     \n",
      "     ...                   ...      \n",
      "        ...................         \n"
     ]
    },
    {
     "data": {
      "image/png": "[encoded data removed]",
      "text/plain": [
       "<matplotlib.figure.Figure at 0x114866160>"
      ]
     },
     "metadata": {},
     "output_type": "display_data"
    }
   ],
   "source": [
    "import matplotlib.pyplot as plt\n",
    "picture = \"       .......                      |     ..       ..                    |......         .                    |.....          .                    |     ..       .                     |       .      ............          |     ..                   ......... |    .                           ... |   .                           .    |   .                           .    |    .                         .     |     ...                   ...      |        ...................         \"\n",
    "\n",
    "picturebyLines = picture.split('|')\n",
    "\n",
    "for line in picturebyLines:\n",
    "    print (line)\n",
    "\n",
    "posx = []\n",
    "posy = []\n",
    "posxLow = []\n",
    "posyLow = []\n",
    "contRand = 0.000001\n",
    "for i in range(0, len(picturebyLines[0])-1):\n",
    "  pos = len(picturebyLines)\n",
    "  for j in picturebyLines:\n",
    "    if( j[ i ] == '.' ):\n",
    "      posx.append(float(i) *1.00 + contRand)\n",
    "      posy.append(float(pos) * 1.00)\n",
    "      break\n",
    "      contRand += 0.000000000001\n",
    "    pos-=1\n",
    "    \n",
    "contRand = 0.000001\n",
    "for i in range(0, len(picturebyLines[0])-1):\n",
    "  pos = 0\n",
    "  for j in reversed(picturebyLines):\n",
    "    if( j[ i ] == '.' ):\n",
    "      posxLow.append(float(i) *1.00 + contRand)\n",
    "      posyLow.append(float(pos) * 1.00)\n",
    "      break\n",
    "      contRand += 0.000000000001\n",
    "    pos+=1\n",
    "\n",
    "# red dashes, blue squares and green triangles\n",
    "plt.scatter(posx, posy)\n",
    "plt.scatter(posxLow, posyLow)\n",
    "plt.show()"
   ]
  },
  {
   "cell_type": "code",
   "execution_count": 109,
   "metadata": {},
   "outputs": [
    {
     "data": {
      "image/png": "[encoded data removed]",
      "text/plain": [
       "<matplotlib.figure.Figure at 0x113aee390>"
      ]
     },
     "metadata": {},
     "output_type": "display_data"
    },
    {
     "data": {
      "image/png": "[encoded data removed]",
      "text/plain": [
       "<matplotlib.figure.Figure at 0x113c4e390>"
      ]
     },
     "metadata": {},
     "output_type": "display_data"
    },
    {
     "name": "stdout",
     "output_type": "stream",
     "text": [
      "18.0538453463219\n"
     ]
    }
   ],
   "source": [
    "interx = []\n",
    "intery = []\n",
    "\n",
    "for i in range(0, len(posx)):\n",
    "    if(int(posx[i]) % 2 == 0):\n",
    "        interx.append(posx[i])\n",
    "        intery.append(posy[i])\n",
    "#print (interx)\n",
    "#print (intery)\n",
    "plt.scatter(interx, intery)\n",
    "plt.show()\n",
    "\n",
    "testx = []\n",
    "testy = []\n",
    "for i in range(4,30):\n",
    "    if(i % 2 != 0):\n",
    "        #testx.append(i)\n",
    "        est = newton_interpolation (interx, intery, i)\n",
    "        real = posy[i]\n",
    "        err = abs((real - est) / real)\n",
    "        #testy.append(abs((real - est) / real))\n",
    "        if(err <= 0.10):\n",
    "            testx.append(i)\n",
    "            testy.append(est)\n",
    "    \n",
    "plt.scatter(testx, testy)\n",
    "plt.scatter(interx, intery)\n",
    "plt.show()\n",
    "est = newton_interpolation (interx, intery, 5)\n",
    "print (est)"
   ]
  }
 ],
 "metadata": {
  "kernelspec": {
   "display_name": "Python 3",
   "language": "python",
   "name": "python3"
  },
  "language_info": {
   "codemirror_mode": {
    "name": "ipython",
    "version": 3
   },
   "file_extension": ".py",
   "mimetype": "text/x-python",
   "name": "python",
   "nbconvert_exporter": "python",
   "pygments_lexer": "ipython3",
   "version": "3.6.1"
  }
 },
 "nbformat": 4,
 "nbformat_minor": 2
}
